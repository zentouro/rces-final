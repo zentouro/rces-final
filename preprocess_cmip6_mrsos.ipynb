{
 "cells": [
  {
   "cell_type": "markdown",
   "metadata": {},
   "source": [
    "### Preprocess CMIP6 temperature and soil mositure data\n",
    "Downloading CMIP6 surface soil moisture, temperature, and max temperature for the Pre-Industrial Control (piControl) and 1pctCO2"
   ]
  },
  {
   "cell_type": "code",
   "execution_count": 1,
   "metadata": {},
   "outputs": [],
   "source": [
    "# Needed Packages\n",
    "\n",
    "import xarray as xr\n",
    "import pandas as pd\n",
    "import numpy as np\n",
    "\n",
    "from tqdm.notebook import tqdm\n"
   ]
  },
  {
   "cell_type": "markdown",
   "metadata": {},
   "source": [
    "CMIP6 data parameters of interest: variables `tas`, `tasmax`, and `mrsos` in experiments `piControl` and `1pctCo2`"
   ]
  },
  {
   "cell_type": "code",
   "execution_count": 2,
   "metadata": {},
   "outputs": [],
   "source": [
    "data_params = [\n",
    "    {'experiment_id':'piControl', 'table_id':'Amon', 'variable_id': 'tas', 'member_id': 'r1i1p1f1'},\n",
    "    {'experiment_id':'piControl', 'table_id':'Amon', 'variable_id': 'tasmax', 'member_id': 'r1i1p1f1'},\n",
    "    {'experiment_id':'piControl', 'table_id':'Lmon', 'variable_id': 'mrsos', 'member_id': 'r1i1p1f1'},\n",
    "    {'experiment_id':'1pctCo2', 'table_id':'Amon', 'variable_id': 'tas', 'member_id': 'r1i1p1f1'},\n",
    "    {'experiment_id':'1pctCo2', 'table_id':'Amon', 'variable_id': 'tasmax', 'member_id': 'r1i1p1f1'},\n",
    "    {'experiment_id':'1pctCo2', 'table_id':'Lmon', 'variable_id': 'mrsos', 'member_id': 'r1i1p1f1'}\n",
    "]"
   ]
  },
  {
   "cell_type": "code",
   "execution_count": null,
   "metadata": {},
   "outputs": [],
   "source": [
    "    "
   ]
  },
  {
   "cell_type": "code",
   "execution_count": null,
   "metadata": {},
   "outputs": [],
   "source": []
  },
  {
   "cell_type": "code",
   "execution_count": null,
   "metadata": {},
   "outputs": [],
   "source": []
  }
 ],
 "metadata": {
  "kernelspec": {
   "display_name": "Python 3",
   "language": "python",
   "name": "python3"
  },
  "language_info": {
   "codemirror_mode": {
    "name": "ipython",
    "version": 3
   },
   "file_extension": ".py",
   "mimetype": "text/x-python",
   "name": "python",
   "nbconvert_exporter": "python",
   "pygments_lexer": "ipython3",
   "version": "3.8.6"
  }
 },
 "nbformat": 4,
 "nbformat_minor": 4
}
